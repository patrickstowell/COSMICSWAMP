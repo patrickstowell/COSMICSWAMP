{
 "cells": [
  {
   "cell_type": "code",
   "execution_count": 10,
   "id": "2f2b550a-cb56-4519-8cb6-72776c2624ca",
   "metadata": {},
   "outputs": [
    {
     "name": "stdout",
     "output_type": "stream",
     "text": [
      "Requirement already satisfied: geojson in /usr/local/lib/python3.10/dist-packages (3.0.1)\n",
      "\u001b[33mWARNING: Running pip as the 'root' user can result in broken permissions and conflicting behaviour with the system package manager. It is recommended to use a virtual environment instead: https://pip.pypa.io/warnings/venv\u001b[0m\u001b[33m\n",
      "\u001b[0m"
     ]
    }
   ],
   "source": [
    "!pip install geojson"
   ]
  },
  {
   "cell_type": "code",
   "execution_count": 3,
   "id": "8bd6ce78-d91a-4d22-9891-10178c548cc2",
   "metadata": {},
   "outputs": [],
   "source": [
    "from geojson import Point\n",
    "\n",
    "p = Point((-115.81, 37.24))"
   ]
  },
  {
   "cell_type": "code",
   "execution_count": 5,
   "id": "35dc70b6-39bd-4f94-99e4-5c16032f7464",
   "metadata": {},
   "outputs": [
    {
     "name": "stdout",
     "output_type": "stream",
     "text": [
      "{\"coordinates\": [-115.81, 37.24], \"type\": \"Point\"} <class 'geojson.geometry.Point'>\n"
     ]
    }
   ],
   "source": [
    "print(p, type(p))"
   ]
  },
  {
   "cell_type": "code",
   "execution_count": 6,
   "id": "87f4051d-7a33-4dde-98fc-3c27c7672059",
   "metadata": {},
   "outputs": [],
   "source": [
    "import geojson"
   ]
  },
  {
   "cell_type": "code",
   "execution_count": 7,
   "id": "17eaf8bc-3b94-4f8d-8c91-2f73bb6427a4",
   "metadata": {},
   "outputs": [
    {
     "data": {
      "text/plain": [
       "{\"geometry\": null, \"properties\": {\"coordinates\": [-115.81, 37.24], \"type\": \"Point\"}, \"type\": \"Feature\"}"
      ]
     },
     "execution_count": 7,
     "metadata": {},
     "output_type": "execute_result"
    }
   ],
   "source": [
    "geojson.Feature(properties={\"coordinates\": [-115.81, 37.24], \"type\": \"Point\"})"
   ]
  },
  {
   "cell_type": "code",
   "execution_count": 2,
   "id": "48c6f514-2612-4464-8151-fa9145da851b",
   "metadata": {},
   "outputs": [],
   "source": [
    "from fastapi import FastAPI, Request\n",
    "import dependencies.orion_utils as orion\n",
    "import dependencies.geojson_utils as geojs\n",
    "import dependencies.ngsi_utils as ngsi\n",
    "import paho.mqtt.client as Paho\n",
    "\n",
    "import modules.iot_platform.cosmicswamp as cosmic\n",
    "import modules.simulation_platform.pcse_simulator as pcsesm\n",
    "import modules.information_platform as infplm\n",
    "import modules.iot_platform as iotplm\n",
    "import sys\n",
    "import datetime\n",
    "import time\n",
    "\n",
    "import numpy as np"
   ]
  },
  {
   "cell_type": "code",
   "execution_count": 9,
   "id": "fac8f962-cd71-4339-bf2c-bfd20da78517",
   "metadata": {},
   "outputs": [
    {
     "name": "stdout",
     "output_type": "stream",
     "text": [
      "{'status': 'OK'}\n"
     ]
    }
   ],
   "source": [
    "rr = cosmic.status()\n",
    "print(rr)"
   ]
  },
  {
   "cell_type": "code",
   "execution_count": 5,
   "id": "0f934514-6252-47af-9b0a-871474c526a4",
   "metadata": {},
   "outputs": [
    {
     "ename": "HTTPException",
     "evalue": "400: Missing fiware-servicepath for query!",
     "output_type": "error",
     "traceback": [
      "\u001b[0;31m---------------------------------------------------------------------------\u001b[0m",
      "\u001b[0;31mAttributeError\u001b[0m                            Traceback (most recent call last)",
      "File \u001b[0;32m/app/dependencies/orion_utils.py:212\u001b[0m, in \u001b[0;36mget_fiware_headers\u001b[0;34m(request)\u001b[0m\n\u001b[1;32m    211\u001b[0m \u001b[38;5;28;01mtry\u001b[39;00m:\n\u001b[0;32m--> 212\u001b[0m     headers[\u001b[38;5;124m\"\u001b[39m\u001b[38;5;124mFiware-Servicepath\u001b[39m\u001b[38;5;124m\"\u001b[39m] \u001b[38;5;241m=\u001b[39m \u001b[43mrequest\u001b[49m\u001b[38;5;241;43m.\u001b[39;49m\u001b[43mheaders\u001b[49m[\u001b[38;5;124m\"\u001b[39m\u001b[38;5;124mfiware-servicepath\u001b[39m\u001b[38;5;124m\"\u001b[39m]\n\u001b[1;32m    213\u001b[0m \u001b[38;5;28;01mexcept\u001b[39;00m:\n",
      "\u001b[0;31mAttributeError\u001b[0m: 'str' object has no attribute 'headers'",
      "\nDuring handling of the above exception, another exception occurred:\n",
      "\u001b[0;31mHTTPException\u001b[0m                             Traceback (most recent call last)",
      "Cell \u001b[0;32mIn[5], line 1\u001b[0m\n\u001b[0;32m----> 1\u001b[0m \u001b[43mcosmic\u001b[49m\u001b[38;5;241;43m.\u001b[39;49m\u001b[43mget_all_current_entity_ids\u001b[49m\u001b[43m(\u001b[49m\u001b[43mrr\u001b[49m\u001b[43m)\u001b[49m\n",
      "File \u001b[0;32m/app/modules/iot_platform/cosmicswamp.py:377\u001b[0m, in \u001b[0;36mget_all_current_entity_ids\u001b[0;34m(request, limit)\u001b[0m\n\u001b[1;32m    373\u001b[0m \u001b[38;5;129m@router\u001b[39m\u001b[38;5;241m.\u001b[39mget(\u001b[38;5;124m\"\u001b[39m\u001b[38;5;124m/current/entity\u001b[39m\u001b[38;5;124m\"\u001b[39m)\n\u001b[1;32m    374\u001b[0m \u001b[38;5;28;01mdef\u001b[39;00m \u001b[38;5;21mget_all_current_entity_ids\u001b[39m(request: Request, \n\u001b[1;32m    375\u001b[0m         limit: Annotated[\u001b[38;5;28mint\u001b[39m \u001b[38;5;241m|\u001b[39m \u001b[38;5;28;01mNone\u001b[39;00m, Query(description\u001b[38;5;241m=\u001b[39m\u001b[38;5;124m\"\u001b[39m\u001b[38;5;124mMax entities\u001b[39m\u001b[38;5;124m\"\u001b[39m)] \u001b[38;5;241m=\u001b[39m \u001b[38;5;241m100\u001b[39m\n\u001b[1;32m    376\u001b[0m     ):\n\u001b[0;32m--> 377\u001b[0m     headers \u001b[38;5;241m=\u001b[39m \u001b[43morion\u001b[49m\u001b[38;5;241;43m.\u001b[39;49m\u001b[43mget_fiware_headers\u001b[49m\u001b[43m(\u001b[49m\u001b[43mrequest\u001b[49m\u001b[43m)\u001b[49m\n\u001b[1;32m    378\u001b[0m     url \u001b[38;5;241m=\u001b[39m settings()\u001b[38;5;241m.\u001b[39morion_url \u001b[38;5;241m+\u001b[39m \u001b[38;5;124mf\u001b[39m\u001b[38;5;124m\"\u001b[39m\u001b[38;5;124m/v2/entities?attrs=id,type&limit=\u001b[39m\u001b[38;5;132;01m{\u001b[39;00mlimit\u001b[38;5;132;01m}\u001b[39;00m\u001b[38;5;124m\"\u001b[39m\n\u001b[1;32m    379\u001b[0m     log\u001b[38;5;241m.\u001b[39mdebug(router, url, headers)\n",
      "File \u001b[0;32m/app/dependencies/orion_utils.py:214\u001b[0m, in \u001b[0;36mget_fiware_headers\u001b[0;34m(request)\u001b[0m\n\u001b[1;32m    212\u001b[0m     headers[\u001b[38;5;124m\"\u001b[39m\u001b[38;5;124mFiware-Servicepath\u001b[39m\u001b[38;5;124m\"\u001b[39m] \u001b[38;5;241m=\u001b[39m request\u001b[38;5;241m.\u001b[39mheaders[\u001b[38;5;124m\"\u001b[39m\u001b[38;5;124mfiware-servicepath\u001b[39m\u001b[38;5;124m\"\u001b[39m]\n\u001b[1;32m    213\u001b[0m \u001b[38;5;28;01mexcept\u001b[39;00m:\n\u001b[0;32m--> 214\u001b[0m     \u001b[38;5;28;01mraise\u001b[39;00m HTTPException(status_code\u001b[38;5;241m=\u001b[39m\u001b[38;5;241m400\u001b[39m,\n\u001b[1;32m    215\u001b[0m                         detail\u001b[38;5;241m=\u001b[39m\u001b[38;5;124m\"\u001b[39m\u001b[38;5;124mMissing fiware-servicepath for query!\u001b[39m\u001b[38;5;124m\"\u001b[39m)\n\u001b[1;32m    216\u001b[0m \u001b[38;5;28;01mtry\u001b[39;00m:\n\u001b[1;32m    217\u001b[0m     headers[\u001b[38;5;124m\"\u001b[39m\u001b[38;5;124mFiware-Service\u001b[39m\u001b[38;5;124m\"\u001b[39m] \u001b[38;5;241m=\u001b[39m request\u001b[38;5;241m.\u001b[39mheaders[\u001b[38;5;124m\"\u001b[39m\u001b[38;5;124mfiware-service\u001b[39m\u001b[38;5;124m\"\u001b[39m]\n",
      "\u001b[0;31mHTTPException\u001b[0m: 400: Missing fiware-servicepath for query!"
     ]
    }
   ],
   "source": [
    "cosmic.get_all_current_entity_ids(rr)"
   ]
  },
  {
   "cell_type": "code",
   "execution_count": null,
   "id": "f0adb67f-330d-4130-89f6-abae483187c1",
   "metadata": {},
   "outputs": [],
   "source": []
  }
 ],
 "metadata": {
  "kernelspec": {
   "display_name": "Python 3 (ipykernel)",
   "language": "python",
   "name": "python3"
  },
  "language_info": {
   "codemirror_mode": {
    "name": "ipython",
    "version": 3
   },
   "file_extension": ".py",
   "mimetype": "text/x-python",
   "name": "python",
   "nbconvert_exporter": "python",
   "pygments_lexer": "ipython3",
   "version": "3.10.12"
  }
 },
 "nbformat": 4,
 "nbformat_minor": 5
}
