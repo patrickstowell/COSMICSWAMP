{
 "cells": [
  {
   "cell_type": "code",
   "execution_count": 1,
   "id": "142e2f28-0933-411e-947d-0d8b78f9cde2",
   "metadata": {},
   "outputs": [],
   "source": [
    "from fastapi import FastAPI, Request\n",
    "import dependencies.orion_utils as orion\n",
    "import dependencies.geojson_utils as geojs\n",
    "import dependencies.ngsi_utils as ngsi\n",
    "import paho.mqtt.client as Paho\n",
    "\n",
    "import modules.iot_platform.cosmicswamp as cosmic\n",
    "import modules.simulation_platform.pcse_simulator as pcsesm\n",
    "import modules.information_platform as infplm\n",
    "import modules.iot_platform as iotplm\n",
    "import sys\n",
    "import datetime\n",
    "import time\n",
    "\n",
    "import numpy as np"
   ]
  },
  {
   "cell_type": "code",
   "execution_count": 5,
   "id": "e3c307a7-b2c2-46a4-b0b8-09672de117fc",
   "metadata": {},
   "outputs": [],
   "source": [
    "sr = orion.session(service=\"openiot\", servicepath=\"/cosmos2024\") #Build session request\n",
    "cosmic.register_session(sr)"
   ]
  },
  {
   "cell_type": "code",
   "execution_count": 8,
   "id": "b2be9c5e-aa7d-4333-9b5e-84ea07161505",
   "metadata": {},
   "outputs": [
    {
     "name": "stdout",
     "output_type": "stream",
     "text": [
      "DONE\n"
     ]
    }
   ],
   "source": [
    "field_center = [-45.523917847717236,-12.170341419421398]\n",
    "infplm.field.create(sr, \"Field:1\", center_location=field_center, radius=600)\n",
    "infplm.field.create(sr, \"Field:2\", center_location=field_center, radius=600)\n",
    "infplm.field.create(sr, \"Field:2\", center_location=field_center, radius=600)\n",
    "\n",
    "infplm.field.split_into_radial_zones(sr, \"Field:1\")\n",
    "print(\"DONE\")\n",
    "# e = cosmicswamp.get_current_entity_from_id(s, \"Field:1\")"
   ]
  },
  {
   "cell_type": "code",
   "execution_count": 9,
   "id": "0fd87e83-ef3b-4c00-a991-6e72052f0cf3",
   "metadata": {},
   "outputs": [
    {
     "name": "stdout",
     "output_type": "stream",
     "text": [
      "[\u001b[38;2;255;0;0mDEBUG\u001b[0m:\u001b[38;2;0;245;0mcosmicswamp\u001b[0m:\u001b[38;2;0;0;245m24-09-22T21:35:50.2\u001b[0m]: http://backend-orion:1026/v2/entities?attrs=id,type&limit=100 {'Fiware-Servicepath': '/cosmos2024', 'Fiware-Service': 'openiot'}\n"
     ]
    },
    {
     "data": {
      "text/plain": [
       "[{'id': 'urn:ngsi-ld:Field:1', 'type': 'Field'},\n",
       " {'id': 'urn:ngsi-ld:Field:2', 'type': 'Field'},\n",
       " {'id': 'urn:ngsi-ld:Field:3', 'type': 'Field'},\n",
       " {'id': 'urn:ngsi-ld:Field:02', 'type': 'Thing'},\n",
       " {'id': 'urn:ngsi-ld:Field:ABC', 'type': 'Thing'},\n",
       " {'id': 'urn:ngsi-ld:SoilProbe:1', 'type': 'SoilDepthProbe'},\n",
       " {'id': 'urn:ngsi-ld:Field:1:ManagementZone:0-0', 'type': 'ManagementZone'},\n",
       " {'id': 'urn:ngsi-ld:Field:1:ManagementZone:0-1', 'type': 'ManagementZone'},\n",
       " {'id': 'urn:ngsi-ld:Field:1:ManagementZone:0-2', 'type': 'ManagementZone'},\n",
       " {'id': 'urn:ngsi-ld:Field:1:ManagementZone:1-0', 'type': 'ManagementZone'},\n",
       " {'id': 'urn:ngsi-ld:Field:1:ManagementZone:1-1', 'type': 'ManagementZone'},\n",
       " {'id': 'urn:ngsi-ld:Field:1:ManagementZone:1-2', 'type': 'ManagementZone'},\n",
       " {'id': 'urn:ngsi-ld:Field:1:ManagementZone:2-0', 'type': 'ManagementZone'},\n",
       " {'id': 'urn:ngsi-ld:Field:1:ManagementZone:2-1', 'type': 'ManagementZone'},\n",
       " {'id': 'urn:ngsi-ld:Field:1:ManagementZone:2-2', 'type': 'ManagementZone'},\n",
       " {'id': 'urn:ngsi-ld:Field:1:ManagementZone:3-0', 'type': 'ManagementZone'},\n",
       " {'id': 'urn:ngsi-ld:Field:1:ManagementZone:3-1', 'type': 'ManagementZone'},\n",
       " {'id': 'urn:ngsi-ld:Field:1:ManagementZone:3-2', 'type': 'ManagementZone'},\n",
       " {'id': 'urn:ngsi-ld:Field:1:ManagementZone:4-0', 'type': 'ManagementZone'},\n",
       " {'id': 'urn:ngsi-ld:Field:1:ManagementZone:4-1', 'type': 'ManagementZone'},\n",
       " {'id': 'urn:ngsi-ld:Field:1:ManagementZone:4-2', 'type': 'ManagementZone'},\n",
       " {'id': 'urn:ngsi-ld:Field:1:ManagementZone:5-0', 'type': 'ManagementZone'},\n",
       " {'id': 'urn:ngsi-ld:Field:1:ManagementZone:5-1', 'type': 'ManagementZone'},\n",
       " {'id': 'urn:ngsi-ld:Field:1:ManagementZone:5-2', 'type': 'ManagementZone'}]"
      ]
     },
     "execution_count": 9,
     "metadata": {},
     "output_type": "execute_result"
    }
   ],
   "source": [
    "cosmic.get_all_current_entity_ids(sr)"
   ]
  },
  {
   "cell_type": "code",
   "execution_count": 5,
   "id": "f2aefb07-3c20-4625-bb40-040df9739ff5",
   "metadata": {},
   "outputs": [],
   "source": [
    "e = cosmic.get_current_entity_from_id(sr, \"Field:1\")"
   ]
  },
  {
   "cell_type": "code",
   "execution_count": 6,
   "id": "1b9d8bf1-153b-4d45-929f-d48b729f3165",
   "metadata": {},
   "outputs": [
    {
     "data": {
      "application/vnd.jupyter.widget-view+json": {
       "model_id": "28c3cf0d86694d4184b5f35e061de0ac",
       "version_major": 2,
       "version_minor": 0
      },
      "text/plain": [
       "Map(center=[-12.170341419421398, -45.523917847717236], controls=(ZoomControl(options=['position', 'zoom_in_tex…"
      ]
     },
     "metadata": {},
     "output_type": "display_data"
    }
   ],
   "source": [
    "import dependencies.leaflet_utils as leaf\n",
    "import ipyleaflet\n",
    "\n",
    "m = leaf.build_map([-45.523917847717236,-12.170341419421398])\n",
    "\n",
    "def reverse_latlon_pairs(latlon_pairs):\n",
    "    \"\"\"\n",
    "    Reverses a list of (latitude, longitude) pairs to (longitude, latitude) pairs.\n",
    "    \n",
    "    Parameters:\n",
    "    latlon_pairs (list of tuples): List of (latitude, longitude) pairs.\n",
    "    \n",
    "    Returns:\n",
    "    list of tuples: List of (longitude, latitude) pairs.\n",
    "    \"\"\"\n",
    "    return [(lon, lat) for lat, lon in latlon_pairs]\n",
    "    \n",
    "polygon = ipyleaflet.Polygon(\n",
    "    locations=reverse_latlon_pairs(e[\"location\"]['value']['coordinates'][0]),\n",
    "    color=\"green\",\n",
    "    fill_color=\"green\"\n",
    ")\n",
    "\n",
    "m.add(polygon)\n",
    "leaf.display_map(m)\n"
   ]
  },
  {
   "cell_type": "code",
   "execution_count": 7,
   "id": "0e530cd3-0219-4990-93f9-9091eda5d4a4",
   "metadata": {},
   "outputs": [],
   "source": [
    "# cosmic.create_entity(sr, entity_id=\"Field:ABC\", entity_type=\"Field\")"
   ]
  },
  {
   "cell_type": "code",
   "execution_count": 8,
   "id": "231e5773-89b2-4e58-be94-f61f53502cee",
   "metadata": {},
   "outputs": [
    {
     "data": {
      "text/plain": [
       "{'id': 'SoilProbe:1',\n",
       " 'type': 'SoilDepthProbe',\n",
       " 'TimeInstant': {'value': '2024-09-22T21:13:40.471883', 'type': 'DateTime'},\n",
       " 'state': {'type': 'Text', 'value': 'CREATION', 'metadata': {}},\n",
       " 'source': {'type': 'Text', 'value': 'API', 'metadata': {}},\n",
       " 'location': {'type': 'geo:json',\n",
       "  'value': {'type': 'Point', 'coordinates': [-45.523918, -12.170341]}},\n",
       " 'UploadInstant': {'type': 'DateTime', 'value': '2024-09-22T21:13:40.478271'},\n",
       " 'messageindex': {'type': 'Number', 'value': 0, 'metadata': {}},\n",
       " 'soiltemperature0': {'type': 'Number',\n",
       "  'value': 0.0,\n",
       "  'metadata': {'units': {'type': 'String', 'value': 'C'}}},\n",
       " 'soiltemperature1': {'type': 'Number',\n",
       "  'value': 0.0,\n",
       "  'metadata': {'units': {'type': 'String', 'value': 'C'}}},\n",
       " 'soiltemperature2': {'type': 'Number',\n",
       "  'value': 0.0,\n",
       "  'metadata': {'units': {'type': 'String', 'value': 'C'}}},\n",
       " 'soilcapacitance0': {'type': 'Number',\n",
       "  'value': 0.0,\n",
       "  'metadata': {'units': {'type': 'String', 'value': 'ADC'}}},\n",
       " 'soilcapacitance1': {'type': 'Number',\n",
       "  'value': 0.0,\n",
       "  'metadata': {'units': {'type': 'String', 'value': 'ADC'}}},\n",
       " 'soilcapacitance2': {'type': 'Number',\n",
       "  'value': 0.0,\n",
       "  'metadata': {'units': {'type': 'String', 'value': 'ADC'}}},\n",
       " 'soilmoistureraw0': {'type': 'Number',\n",
       "  'value': 0.0,\n",
       "  'metadata': {'units': {'type': 'String', 'value': 'ADC'}}},\n",
       " 'soilmoistureraw1': {'type': 'Number',\n",
       "  'value': 0.0,\n",
       "  'metadata': {'units': {'type': 'String', 'value': 'ADC'}}},\n",
       " 'soilmoistureraw2': {'type': 'Number',\n",
       "  'value': 0.0,\n",
       "  'metadata': {'units': {'type': 'String', 'value': 'ADC'}}},\n",
       " 'batteryvoltage': {'type': 'Number',\n",
       "  'value': 0.0,\n",
       "  'metadata': {'units': {'type': 'String', 'value': 'V'}}},\n",
       " 'soilmoisturecalibrated0': {'type': 'Number',\n",
       "  'value': 0.0,\n",
       "  'metadata': {'units': {'type': 'String', 'value': 'm3/m3'}}},\n",
       " 'soilmoisturecalibrated1': {'type': 'Number',\n",
       "  'value': 0.0,\n",
       "  'metadata': {'units': {'type': 'String', 'value': 'm3/m3'}}},\n",
       " 'soilmoisturecalibrated2': {'type': 'Number',\n",
       "  'value': 0.0,\n",
       "  'metadata': {'units': {'type': 'String', 'value': 'm3/m3'}}},\n",
       " 'soilcalibration0': {'type': 'StructuredValue',\n",
       "  'value': {'function': 'a + b*x + c/x/x',\n",
       "   'constants': {'a': 0.25257, 'b': 0.0002503, 'c': -4581.3}},\n",
       "  'metadata': {}},\n",
       " 'soilcalibration1': {'type': 'StructuredValue',\n",
       "  'value': {'function': 'a + b*x + c/x/x',\n",
       "   'constants': {'a': 0.25257, 'b': 0.0002503, 'c': -4581.3}},\n",
       "  'metadata': {}},\n",
       " 'soilcalibration2': {'type': 'StructuredValue',\n",
       "  'value': {'function': 'a + b*x + c/x/x',\n",
       "   'constants': {'a': 0.25257, 'b': 0.0002503, 'c': -4581.3}},\n",
       "  'metadata': {}}}"
      ]
     },
     "execution_count": 8,
     "metadata": {},
     "output_type": "execute_result"
    }
   ],
   "source": [
    "infplm.soildepthprobe.create(sr,\n",
    "                             \"SoilProbe:1\",\n",
    "                             location=geojs.point([-45.523917847717236,-12.170341419421398]))"
   ]
  },
  {
   "cell_type": "code",
   "execution_count": 9,
   "id": "deba2fed-22d5-4884-9599-1920bb0a5098",
   "metadata": {},
   "outputs": [],
   "source": [
    "infplm.soildepthprobe.update(sr, \"SoilProbe:1\", soiltemperature0=24, soiltemperature1=12)\n",
    "infplm.soildepthprobe.update(sr, \"SoilProbe:1\", soiltemperature0=22, soiltemperature1=12)\n",
    "infplm.soildepthprobe.update(sr, \"SoilProbe:1\", soiltemperature0=23, soiltemperature1=12)\n",
    "infplm.soildepthprobe.update(sr, \"SoilProbe:1\", soiltemperature0=22, soiltemperature1=12)\n",
    "infplm.soildepthprobe.update(sr, \"SoilProbe:1\", soiltemperature0=23, soiltemperature1=12)\n",
    "infplm.soildepthprobe.update(sr, \"SoilProbe:1\", soiltemperature0=22, soiltemperature1=12)"
   ]
  },
  {
   "cell_type": "code",
   "execution_count": 6,
   "id": "c7270afd-2380-4abe-bf0b-506347afebfd",
   "metadata": {},
   "outputs": [
    {
     "name": "stdout",
     "output_type": "stream",
     "text": [
      "[\u001b[38;2;255;0;0mDEBUG\u001b[0m:\u001b[38;2;0;245;0mcosmicswamp\u001b[0m:\u001b[38;2;0;0;245m24-09-22T21:30:06.5\u001b[0m]: SELECTION SELECT time_index, soiltemperature0  FROM \"mtopeniot\".\"etsoildepthprobe\" WHERE fiware_servicepath='/cosmos2024'  AND entity_id='urn:ngsi-ld:SoilProbe:1'   AND soiltemperature0>23   ORDER BY time_index ASC LIMIT 1000\n",
      "RETRIEVING SELECT time_index, soiltemperature0  FROM \"mtopeniot\".\"etsoildepthprobe\" WHERE fiware_servicepath='/cosmos2024'  AND entity_id='urn:ngsi-ld:SoilProbe:1'   AND soiltemperature0>23   ORDER BY time_index ASC LIMIT 1000 crate://backend-cratedb:4200\n"
     ]
    }
   ],
   "source": [
    "e = cosmic.get_current_entity_from_id(sr, \"SoilProbe:1\")\n",
    "\n",
    "df = cosmic.get_series_data_for_entity(sr, \n",
    "                                   entity_id=\"SoilProbe:1\", \n",
    "                                   attrs=[\"time_index\", \"soiltemperature0\"], \n",
    "                                   cuts=[\"soiltemperature0>23\"] )\n",
    "\n"
   ]
  },
  {
   "cell_type": "code",
   "execution_count": null,
   "id": "f15d0e87-9cb3-4acb-bcae-0fd6ce1cb04c",
   "metadata": {},
   "outputs": [],
   "source": []
  },
  {
   "cell_type": "code",
   "execution_count": null,
   "id": "f93eacdb-6969-4053-aa4d-5405f912c2be",
   "metadata": {},
   "outputs": [],
   "source": []
  },
  {
   "cell_type": "code",
   "execution_count": null,
   "id": "a04e6c25-72d0-4e80-8556-f6e4618e931c",
   "metadata": {},
   "outputs": [],
   "source": []
  },
  {
   "cell_type": "code",
   "execution_count": 12,
   "id": "d2444e9b-1442-4385-a43a-bed8ccd4547d",
   "metadata": {},
   "outputs": [],
   "source": [
    "# from prettyprinter import cpprint\n",
    "# cpprint(e)"
   ]
  },
  {
   "cell_type": "code",
   "execution_count": 32,
   "id": "24fcdf6d-b48f-458a-8a6c-3347ad4ab61e",
   "metadata": {},
   "outputs": [],
   "source": [
    "import pandas as pd\n",
    "df = pd.DataFrame(data=df)\n",
    "df[\"time_index\"] = pd.to_datetime(df[\"time_index\"], unit='ms')"
   ]
  },
  {
   "cell_type": "code",
   "execution_count": null,
   "id": "0da8aa51-4bab-412a-aae2-e66a2258ee26",
   "metadata": {},
   "outputs": [],
   "source": []
  },
  {
   "cell_type": "code",
   "execution_count": 33,
   "id": "4b60df38-7366-4d8f-be04-5e0856b5e1f0",
   "metadata": {},
   "outputs": [
    {
     "name": "stdout",
     "output_type": "stream",
     "text": [
      "               time_index  soiltemperature0\n",
      "0 2024-09-22 15:26:11.576              24.0\n",
      "1 2024-09-22 15:30:01.320              24.0\n",
      "2 2024-09-22 15:38:06.412              24.0\n",
      "3 2024-09-22 21:12:05.031              24.0\n",
      "4 2024-09-22 21:13:40.668              24.0\n"
     ]
    }
   ],
   "source": [
    "print(df)"
   ]
  },
  {
   "cell_type": "code",
   "execution_count": 30,
   "id": "a3741484-aac0-48e1-9917-bc5ae4f22a26",
   "metadata": {},
   "outputs": [
    {
     "data": {
      "text/plain": [
       "[<matplotlib.lines.Line2D at 0x7f7b78575600>]"
      ]
     },
     "execution_count": 30,
     "metadata": {},
     "output_type": "execute_result"
    },
    {
     "data": {
      "image/png": "[encoded data removed]",
      "text/plain": [
       "<Figure size 640x480 with 1 Axes>"
      ]
     },
     "metadata": {},
     "output_type": "display_data"
    }
   ],
   "source": [
    "import matplotlib.pyplot as plt\n",
    "\n",
    "plt.plot(df.time_index, df.soiltemperature0)"
   ]
  },
  {
   "cell_type": "code",
   "execution_count": 36,
   "id": "fbfa6bbe-af1a-4c38-9389-e05386685124",
   "metadata": {},
   "outputs": [],
   "source": [
    "from pypika import Query, Table, Field\n"
   ]
  },
  {
   "cell_type": "code",
   "execution_count": 35,
   "id": "263411b1-4d6a-4ce5-b593-7d9b7d81f1d4",
   "metadata": {},
   "outputs": [
    {
     "name": "stdout",
     "output_type": "stream",
     "text": [
      "Collecting pypika\n",
      "  Downloading PyPika-0.48.9.tar.gz (67 kB)\n",
      "\u001b[2K     \u001b[90m━━━━━━━━━━━━━━━━━━━━━━━━━━━━━━━━━━━━━━━━\u001b[0m \u001b[32m67.3/67.3 KB\u001b[0m \u001b[31m2.7 MB/s\u001b[0m eta \u001b[36m0:00:00\u001b[0m\n",
      "\u001b[?25h  Installing build dependencies ... \u001b[?25ldone\n",
      "\u001b[?25h  Getting requirements to build wheel ... \u001b[?25ldone\n",
      "\u001b[?25h  Preparing metadata (pyproject.toml) ... \u001b[?25ldone\n",
      "\u001b[?25hBuilding wheels for collected packages: pypika\n",
      "  Building wheel for pypika (pyproject.toml) ... \u001b[?25ldone\n",
      "\u001b[?25h  Created wheel for pypika: filename=PyPika-0.48.9-py2.py3-none-any.whl size=53738 sha256=a05484427b470bef719a41afcb7ab2a76feb7b64572caa753eddac282079d969\n",
      "  Stored in directory: /root/.cache/pip/wheels/e1/26/51/d0bffb3d2fd82256676d7ad3003faea3bd6dddc9577af665f4\n",
      "Successfully built pypika\n",
      "Installing collected packages: pypika\n",
      "Successfully installed pypika-0.48.9\n",
      "\u001b[33mWARNING: Running pip as the 'root' user can result in broken permissions and conflicting behaviour with the system package manager. It is recommended to use a virtual environment instead: https://pip.pypa.io/warnings/venv\u001b[0m\u001b[33m\n",
      "\u001b[0m"
     ]
    }
   ],
   "source": [
    "!pip install pypika"
   ]
  },
  {
   "cell_type": "code",
   "execution_count": 2,
   "id": "878c86c7-d3b1-4d2d-ab30-f3b76c54ad50",
   "metadata": {},
   "outputs": [],
   "source": [
    "from pypika import Query, Table, Field, Order\n"
   ]
  },
  {
   "cell_type": "code",
   "execution_count": 3,
   "id": "1762653e-6d03-439d-8bd6-3df72315f4f5",
   "metadata": {},
   "outputs": [
    {
     "data": {
      "text/plain": [
       "SELECT \"id\",\"lname\",\"phone\" FROM \"customers\" WHERE \"entity_id\"='testdev' ORDER BY \"time_index\" DESC"
      ]
     },
     "execution_count": 3,
     "metadata": {},
     "output_type": "execute_result"
    }
   ],
   "source": [
    "ent=Table('customers')\n",
    "\n",
    "Query.from_('customers')\\\n",
    "    .select(ent.id, ent.lname, ent.phone)\\\n",
    "    .where(ent.entity_id == 'testdev')\\\n",
    "    .orderby('time_index', order=Order.desc)"
   ]
  },
  {
   "cell_type": "code",
   "execution_count": 32,
   "id": "4cc5c86f-2a14-4ee9-b961-43057d2f13c3",
   "metadata": {},
   "outputs": [
    {
     "name": "stdout",
     "output_type": "stream",
     "text": [
      "(-45.527511108853716, -12.175470169577881)\n",
      "(-45.52746619308951, -12.175470169577881)\n",
      "(-45.5274212773253, -12.175470169577881)\n",
      "(-45.527376361561096, -12.175470169577881)\n",
      "(-45.52733144579689, -12.175470169577881)\n",
      "(-45.52728653003268, -12.175470169577881)\n",
      "(-45.527241614268476, -12.175470169577881)\n",
      "(-45.52719669850427, -12.175470169577881)\n",
      "(-45.52715178274006, -12.175470169577881)\n",
      "(-45.52710686697586, -12.175470169577881)\n"
     ]
    }
   ],
   "source": [
    "import math\n",
    "\n",
    "def generate_grid(lat, lon, range_m=400, step_m=5):\n",
    "    # Earth's radius in meters\n",
    "    R = 6378137\n",
    "    \n",
    "    # Convert latitude and longitude from degrees to radians\n",
    "    lat_rad = math.radians(lat)\n",
    "    lon_rad = math.radians(lon)\n",
    "    \n",
    "    # Calculate the length of a degree in meters\n",
    "    lat_deg_to_m = R * math.pi / 180\n",
    "    lon_deg_to_m = R * math.cos(lat_rad) * math.pi / 180\n",
    "    \n",
    "    # Initialize the grid\n",
    "    grid = []\n",
    "\n",
    "    # Generate grid points\n",
    "    for dx in range(-range_m, range_m + step_m, step_m):\n",
    "        for dy in range(-range_m, range_m + step_m, step_m):\n",
    "            new_lat = lat + (dy / lat_deg_to_m)\n",
    "            new_lon = lon + (dx / lon_deg_to_m)\n",
    "            grid.append((new_lat, new_lon))\n",
    "    \n",
    "    return grid\n",
    "\n",
    "# Example usage\n",
    "# [-45.523917847717236,-12.170341419421398]\n",
    "lat = -45.523917847717236  # Latitude for London\n",
    "lon = -12.170341419421398  # Longitude for London\n",
    "\n",
    "grid_points = generate_grid(lat, lon)\n",
    "\n",
    "# Print some of the grid points\n",
    "for point in grid_points[:10]:  # Printing only the first 10 points for brevity\n",
    "    print(point)\n"
   ]
  },
  {
   "cell_type": "code",
   "execution_count": 33,
   "id": "eefd6194-64e6-4ab0-8c0a-9329c1462c85",
   "metadata": {},
   "outputs": [
    {
     "data": {
      "text/plain": [
       "{'id': 'urn:ngsi-ld:Field:1:ManagementZone:0-0',\n",
       " 'type': 'ManagementZone',\n",
       " 'TimeInstant': {'type': 'DateTime',\n",
       "  'value': '2024-09-22T21:35:40.00Z',\n",
       "  'metadata': {}},\n",
       " 'location': {'type': 'geo:json',\n",
       "  'value': {'type': 'Polygon',\n",
       "   'coordinates': [[[-45.523918, -12.170341],\n",
       "     [-45.523918, -12.168542],\n",
       "     [-45.525512, -12.169442],\n",
       "     [-45.523918, -12.170341],\n",
       "     [-45.523918, -12.170341]]]},\n",
       "  'metadata': {}},\n",
       " 'zoneid': {'type': 'Text', 'value': '0-0', 'metadata': {}}}"
      ]
     },
     "execution_count": 33,
     "metadata": {},
     "output_type": "execute_result"
    }
   ],
   "source": [
    "cosmic.get_current_entity_from_id(sr, \"Field:1:ManagementZone:0-0\")"
   ]
  },
  {
   "cell_type": "code",
   "execution_count": 26,
   "id": "9b98d044-870b-4595-916d-2d37f00441e5",
   "metadata": {},
   "outputs": [],
   "source": [
    "import shapely"
   ]
  },
  {
   "cell_type": "code",
   "execution_count": 14,
   "id": "4a8150b8-d02a-4717-96ed-22d688b9c58b",
   "metadata": {},
   "outputs": [
    {
     "name": "stdout",
     "output_type": "stream",
     "text": [
      "Collecting shapely\n",
      "  Downloading shapely-2.0.6-cp310-cp310-manylinux_2_17_x86_64.manylinux2014_x86_64.whl (2.5 MB)\n",
      "\u001b[2K     \u001b[90m━━━━━━━━━━━━━━━━━━━━━━━━━━━━━━━━━━━━━━━━\u001b[0m \u001b[32m2.5/2.5 MB\u001b[0m \u001b[31m4.5 MB/s\u001b[0m eta \u001b[36m0:00:00\u001b[0m00:01\u001b[0m00:01\u001b[0m\n",
      "\u001b[?25hRequirement already satisfied: numpy<3,>=1.14 in /usr/local/lib/python3.10/dist-packages (from shapely) (1.26.4)\n",
      "Installing collected packages: shapely\n",
      "Successfully installed shapely-2.0.6\n",
      "\u001b[33mWARNING: Running pip as the 'root' user can result in broken permissions and conflicting behaviour with the system package manager. It is recommended to use a virtual environment instead: https://pip.pypa.io/warnings/venv\u001b[0m\u001b[33m\n",
      "\u001b[0m"
     ]
    }
   ],
   "source": [
    "!pip install shapely"
   ]
  },
  {
   "cell_type": "code",
   "execution_count": 34,
   "id": "706ce232-be80-45b2-8c2b-632ea0b16ae8",
   "metadata": {},
   "outputs": [
    {
     "name": "stdout",
     "output_type": "stream",
     "text": [
      "urn:ngsi-ld:Field:1:ManagementZone:0-0\n",
      "{\"coordinates\": [[[-45.523918, -12.170341], [-45.523918, -12.168542], [-45.525512, -12.169442], [-45.523918, -12.170341], [-45.523918, -12.170341]]], \"type\": \"Polygon\"}\n",
      "25921\n",
      "True\n",
      "urn:ngsi-ld:Field:1:ManagementZone:0-1\n",
      "{\"coordinates\": [[[-45.523918, -12.168542], [-45.523918, -12.166744], [-45.527105, -12.168542], [-45.525512, -12.169442], [-45.523918, -12.168542]]], \"type\": \"Polygon\"}\n",
      "25921\n",
      "True\n",
      "urn:ngsi-ld:Field:1:ManagementZone:0-2\n",
      "{\"coordinates\": [[[-45.523918, -12.166744], [-45.523918, -12.164945], [-45.528698, -12.167643], [-45.527105, -12.168542], [-45.523918, -12.166744]]], \"type\": \"Polygon\"}\n",
      "25921\n",
      "True\n",
      "urn:ngsi-ld:Field:1:ManagementZone:1-0\n",
      "{\"coordinates\": [[[-45.523918, -12.170341], [-45.525512, -12.169442], [-45.525512, -12.17124], [-45.523918, -12.170341], [-45.523918, -12.170341]]], \"type\": \"Polygon\"}\n",
      "25921\n",
      "True\n",
      "urn:ngsi-ld:Field:1:ManagementZone:1-1\n",
      "{\"coordinates\": [[[-45.525512, -12.169442], [-45.527105, -12.168542], [-45.527105, -12.172139], [-45.525512, -12.17124], [-45.525512, -12.169442]]], \"type\": \"Polygon\"}\n",
      "25921\n",
      "True\n",
      "urn:ngsi-ld:Field:1:ManagementZone:1-2\n",
      "{\"coordinates\": [[[-45.527105, -12.168542], [-45.528698, -12.167643], [-45.528699, -12.173039], [-45.527105, -12.172139], [-45.527105, -12.168542]]], \"type\": \"Polygon\"}\n",
      "25921\n",
      "True\n",
      "urn:ngsi-ld:Field:1:ManagementZone:2-0\n",
      "{\"coordinates\": [[[-45.523918, -12.170341], [-45.525512, -12.17124], [-45.523918, -12.17214], [-45.523918, -12.170341], [-45.523918, -12.170341]]], \"type\": \"Polygon\"}\n",
      "25921\n",
      "True\n",
      "urn:ngsi-ld:Field:1:ManagementZone:2-1\n",
      "{\"coordinates\": [[[-45.525512, -12.17124], [-45.527105, -12.172139], [-45.523918, -12.173938], [-45.523918, -12.17214], [-45.525512, -12.17124]]], \"type\": \"Polygon\"}\n",
      "25921\n",
      "True\n",
      "urn:ngsi-ld:Field:1:ManagementZone:2-2\n",
      "{\"coordinates\": [[[-45.527105, -12.172139], [-45.528699, -12.173039], [-45.523918, -12.175737], [-45.523918, -12.173938], [-45.527105, -12.172139]]], \"type\": \"Polygon\"}\n",
      "25921\n",
      "True\n",
      "urn:ngsi-ld:Field:1:ManagementZone:3-0\n",
      "{\"coordinates\": [[[-45.523918, -12.170341], [-45.523918, -12.17214], [-45.522325, -12.17124], [-45.523918, -12.170341], [-45.523918, -12.170341]]], \"type\": \"Polygon\"}\n",
      "25921\n",
      "True\n",
      "urn:ngsi-ld:Field:1:ManagementZone:3-1\n",
      "{\"coordinates\": [[[-45.523918, -12.17214], [-45.523918, -12.173938], [-45.520731, -12.17214], [-45.522325, -12.17124], [-45.523918, -12.17214]]], \"type\": \"Polygon\"}\n",
      "25921\n",
      "True\n",
      "urn:ngsi-ld:Field:1:ManagementZone:3-2\n",
      "{\"coordinates\": [[[-45.523918, -12.173938], [-45.523918, -12.175737], [-45.519138, -12.173039], [-45.520731, -12.17214], [-45.523918, -12.173938]]], \"type\": \"Polygon\"}\n",
      "25921\n",
      "True\n",
      "urn:ngsi-ld:Field:1:ManagementZone:4-0\n",
      "{\"coordinates\": [[[-45.523918, -12.170341], [-45.522325, -12.17124], [-45.522324, -12.169442], [-45.523918, -12.170341], [-45.523918, -12.170341]]], \"type\": \"Polygon\"}\n",
      "25921\n",
      "True\n",
      "urn:ngsi-ld:Field:1:ManagementZone:4-1\n",
      "{\"coordinates\": [[[-45.522325, -12.17124], [-45.520731, -12.17214], [-45.520731, -12.168543], [-45.522324, -12.169442], [-45.522325, -12.17124]]], \"type\": \"Polygon\"}\n",
      "25921\n",
      "True\n",
      "urn:ngsi-ld:Field:1:ManagementZone:4-2\n",
      "{\"coordinates\": [[[-45.520731, -12.17214], [-45.519138, -12.173039], [-45.519137, -12.167643], [-45.520731, -12.168543], [-45.520731, -12.17214]]], \"type\": \"Polygon\"}\n",
      "25921\n",
      "True\n",
      "urn:ngsi-ld:Field:1:ManagementZone:5-0\n",
      "{\"coordinates\": [[[-45.523918, -12.170341], [-45.522324, -12.169442], [-45.523918, -12.168542], [-45.523918, -12.170341], [-45.523918, -12.170341]]], \"type\": \"Polygon\"}\n",
      "25921\n",
      "True\n",
      "urn:ngsi-ld:Field:1:ManagementZone:5-1\n",
      "{\"coordinates\": [[[-45.522324, -12.169442], [-45.520731, -12.168543], [-45.523917, -12.166744], [-45.523918, -12.168542], [-45.522324, -12.169442]]], \"type\": \"Polygon\"}\n",
      "25921\n",
      "True\n",
      "urn:ngsi-ld:Field:1:ManagementZone:5-2\n",
      "{\"coordinates\": [[[-45.520731, -12.168543], [-45.519137, -12.167643], [-45.523917, -12.164945], [-45.523917, -12.166744], [-45.520731, -12.168543]]], \"type\": \"Polygon\"}\n",
      "25921\n",
      "True\n"
     ]
    }
   ],
   "source": [
    "from shapely.geometry import shape, Point\n",
    "\n",
    "def is_point_in_geojson(geojson_obj, points):\n",
    "    # Convert the GeoJSON object to a shapely geometry\n",
    "    geometry = shape(geojson_obj)\n",
    "    print(len(points))\n",
    "    # Check each point\n",
    "    results = []\n",
    "    for point in points:\n",
    "        point_geom = Point(point)\n",
    "        is_inside = geometry.contains(point_geom)\n",
    "        results.append(is_inside)\n",
    "\n",
    "    return results\n",
    "\n",
    "\n",
    "for obj in cosmic.get_all_current_entities_of_type(sr, \"ManagementZone\"):\n",
    "    print(obj[\"id\"])\n",
    "\n",
    "    loc = geojson.GeoJSON(obj[\"location\"][\"value\"])\n",
    "    print(loc)\n",
    "\n",
    "    results = is_point_in_geojson(loc, grid_points)\n",
    "    print(np.any(results))\n",
    "\n",
    "    \n",
    "    "
   ]
  },
  {
   "cell_type": "code",
   "execution_count": null,
   "id": "c8b9f410-2a7e-4f55-a99c-951c7b6b1605",
   "metadata": {},
   "outputs": [],
   "source": []
  }
 ],
 "metadata": {
  "kernelspec": {
   "display_name": "Python 3 (ipykernel)",
   "language": "python",
   "name": "python3"
  },
  "language_info": {
   "codemirror_mode": {
    "name": "ipython",
    "version": 3
   },
   "file_extension": ".py",
   "mimetype": "text/x-python",
   "name": "python",
   "nbconvert_exporter": "python",
   "pygments_lexer": "ipython3",
   "version": "3.10.12"
  }
 },
 "nbformat": 4,
 "nbformat_minor": 5
}
