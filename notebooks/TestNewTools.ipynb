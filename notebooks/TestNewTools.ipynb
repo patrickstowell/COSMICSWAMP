{
 "cells": [
  {
   "cell_type": "code",
   "execution_count": 1,
   "id": "142e2f28-0933-411e-947d-0d8b78f9cde2",
   "metadata": {},
   "outputs": [],
   "source": [
    "from fastapi import FastAPI, Request\n",
    "import dependencies.orion_utils as orion\n",
    "import dependencies.geojson_utils as geojs\n",
    "import dependencies.ngsi_utils as ngsi\n",
    "import paho.mqtt.client as Paho\n",
    "\n",
    "import modules.iot_platform.cosmicswamp as cosmic\n",
    "import modules.simulation_platform.pcse_simulator as pcsesm\n",
    "import modules.information_platform as infplm\n",
    "import modules.iot_platform as iotplm\n",
    "import sys\n",
    "import datetime\n",
    "import time\n",
    "\n",
    "import numpy as np"
   ]
  },
  {
   "cell_type": "code",
   "execution_count": 2,
   "id": "e3c307a7-b2c2-46a4-b0b8-09672de117fc",
   "metadata": {},
   "outputs": [],
   "source": [
    "sr = orion.session(service=\"openiot\", servicepath=\"/cosmos2024\") #Build session request\n",
    "cosmic.register_session(sr)"
   ]
  },
  {
   "cell_type": "code",
   "execution_count": 6,
   "id": "b2be9c5e-aa7d-4333-9b5e-84ea07161505",
   "metadata": {},
   "outputs": [
    {
     "name": "stdout",
     "output_type": "stream",
     "text": [
      "DONE\n"
     ]
    }
   ],
   "source": [
    "field_center = [-45.523917847717236,-12.170341419421398]\n",
    "infplm.field.create(sr, \"Field:1\", center_location=field_center, radius=600)\n",
    "infplm.field.create(sr, \"Field:2\", center_location=field_center, radius=600)\n",
    "infplm.field.create(sr, \"Field:2\", center_location=field_center, radius=600)\n",
    "\n",
    "print(\"DONE\")\n",
    "# e = cosmicswamp.get_current_entity_from_id(s, \"Field:1\")"
   ]
  },
  {
   "cell_type": "code",
   "execution_count": 8,
   "id": "0fd87e83-ef3b-4c00-a991-6e72052f0cf3",
   "metadata": {},
   "outputs": [
    {
     "name": "stdout",
     "output_type": "stream",
     "text": [
      "[\u001b[38;2;255;0;0mDEBUG\u001b[0m:\u001b[38;2;0;245;0mcosmicswamp\u001b[0m:\u001b[38;2;0;0;245m24-09-22T11:48:37.8\u001b[0m]: http://backend-orion:1026/v2/entities?attrs=id,type&limit=100 {'Fiware-Servicepath': '/cosmos2024', 'Fiware-Service': 'openiot'}\n"
     ]
    },
    {
     "data": {
      "text/plain": [
       "[{'id': 'urn:ngsi-ld:Field:1', 'type': 'Field'},\n",
       " {'id': 'urn:ngsi-ld:Field:2', 'type': 'Field'},\n",
       " {'id': 'urn:ngsi-ld:Field:3', 'type': 'Field'}]"
      ]
     },
     "execution_count": 8,
     "metadata": {},
     "output_type": "execute_result"
    }
   ],
   "source": [
    "cosmic.get_all_current_entity_ids(sr)"
   ]
  },
  {
   "cell_type": "code",
   "execution_count": 9,
   "id": "f2aefb07-3c20-4625-bb40-040df9739ff5",
   "metadata": {},
   "outputs": [
    {
     "data": {
      "text/plain": [
       "{'id': 'urn:ngsi-ld:Field:1',\n",
       " 'type': 'Field',\n",
       " 'TimeInstant': {'type': 'DateTime',\n",
       "  'value': '2024-09-22T11:48:25.00Z',\n",
       "  'metadata': {}},\n",
       " 'location': {'type': 'geo:json',\n",
       "  'value': {'type': 'Polygon',\n",
       "   'coordinates': [[[-45.523918, -12.164945],\n",
       "     [-45.525347, -12.165129],\n",
       "     [-45.526678, -12.165668],\n",
       "     [-45.527821, -12.166525],\n",
       "     [-45.528698, -12.167643],\n",
       "     [-45.52925, -12.168944],\n",
       "     [-45.529438, -12.170341],\n",
       "     [-45.52925, -12.171738],\n",
       "     [-45.528699, -12.173039],\n",
       "     [-45.527821, -12.174156],\n",
       "     [-45.526678, -12.175014],\n",
       "     [-45.525347, -12.175553],\n",
       "     [-45.523918, -12.175737],\n",
       "     [-45.522489, -12.175553],\n",
       "     [-45.521158, -12.175014],\n",
       "     [-45.520015, -12.174156],\n",
       "     [-45.519138, -12.173039],\n",
       "     [-45.518586, -12.171738],\n",
       "     [-45.518398, -12.170341],\n",
       "     [-45.518586, -12.168944],\n",
       "     [-45.519138, -12.167643],\n",
       "     [-45.520015, -12.166525],\n",
       "     [-45.521158, -12.165668],\n",
       "     [-45.522489, -12.165129],\n",
       "     [-45.523918, -12.164945]]]},\n",
       "  'metadata': {}}}"
      ]
     },
     "execution_count": 9,
     "metadata": {},
     "output_type": "execute_result"
    }
   ],
   "source": [
    "cosmic.get_current_entity_from_id(sr, \"Field:1\")"
   ]
  },
  {
   "cell_type": "code",
   "execution_count": null,
   "id": "1b9d8bf1-153b-4d45-929f-d48b729f3165",
   "metadata": {},
   "outputs": [],
   "source": []
  }
 ],
 "metadata": {
  "kernelspec": {
   "display_name": "Python 3 (ipykernel)",
   "language": "python",
   "name": "python3"
  },
  "language_info": {
   "codemirror_mode": {
    "name": "ipython",
    "version": 3
   },
   "file_extension": ".py",
   "mimetype": "text/x-python",
   "name": "python",
   "nbconvert_exporter": "python",
   "pygments_lexer": "ipython3",
   "version": "3.10.12"
  }
 },
 "nbformat": 4,
 "nbformat_minor": 5
}
